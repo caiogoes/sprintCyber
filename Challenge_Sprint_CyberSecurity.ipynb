{
  "cells": [
    {
      "cell_type": "markdown",
      "metadata": {
        "id": "view-in-github",
        "colab_type": "text"
      },
      "source": [
        "<a href=\"https://colab.research.google.com/github/caiogoes/sprintCyber/blob/main/Challenge_Sprint_CyberSecurity.ipynb\" target=\"_parent\"><img src=\"https://colab.research.google.com/assets/colab-badge.svg\" alt=\"Open In Colab\"/></a>"
      ]
    },
    {
      "cell_type": "code",
      "execution_count": 4,
      "metadata": {
        "colab": {
          "base_uri": "https://localhost:8080/"
        },
        "id": "IrGWaByQLn1k",
        "outputId": "9ddfeef5-44cc-43ce-a4b8-a51381be84e2"
      },
      "outputs": [
        {
          "output_type": "stream",
          "name": "stdout",
          "text": [
            "Requirement already satisfied: fuzzywuzzy[speedup] in /usr/local/lib/python3.7/dist-packages (0.18.0)\n",
            "Requirement already satisfied: python-levenshtein>=0.12 in /usr/local/lib/python3.7/dist-packages (from fuzzywuzzy[speedup]) (0.12.2)\n",
            "Requirement already satisfied: setuptools in /usr/local/lib/python3.7/dist-packages (from python-levenshtein>=0.12->fuzzywuzzy[speedup]) (57.4.0)\n"
          ]
        }
      ],
      "source": [
        "!pip install -q pyngrok\n",
        "!pip install -q streamlit\n",
        "!pip install -q streamlit_ace\n",
        "!pip install fuzzywuzzy[speedup]"
      ]
    },
    {
      "cell_type": "code",
      "source": [
        "!streamlit run app.py &>/dev/null&"
      ],
      "metadata": {
        "id": "JBGTxesld1d1"
      },
      "execution_count": 6,
      "outputs": []
    },
    {
      "cell_type": "code",
      "execution_count": 49,
      "metadata": {
        "colab": {
          "base_uri": "https://localhost:8080/"
        },
        "id": "b8E65fDmMB1I",
        "outputId": "d85fa1a9-11b8-4473-80c8-ef06c4e7a243"
      },
      "outputs": [
        {
          "output_type": "stream",
          "name": "stdout",
          "text": [
            "Overwriting app.py\n"
          ]
        }
      ],
      "source": [
        "#Comando para Criar o Sistema no arquivo app.py\n",
        "%%writefile app.py\n",
        "\n",
        "#Importando Pacotes\n",
        "import re\n",
        "import json\n",
        "import requests\n",
        "import streamlit as st\n",
        "from pyngrok import ngrok\n",
        "from fuzzywuzzy import fuzz\n",
        "\n",
        "apiBlacklist = 'https://caiogoes.github.io/basfBlacklist.json'\n",
        "\n",
        "#Essa função é para criação da webpage\n",
        "def main():\n",
        "  #Elementos da webpage\n",
        "  html_temp = \"\"\"\n",
        "  <div>\n",
        "    <div style =\"background: rgba(0, 0, 0, 0.2); width: 70%; height: 100px; display: inline-block; padding: 20px;\">\n",
        "      <h3 style =\"color: white; text-align: center;\">Consultar liberação produto<h3>\n",
        "    </div>\n",
        "    <div style =\"background: #65ac1e; width: 25%; height: 100px; display: inline-block; float: right; background-image: url(https://agriculture.basf.com/etc.clientlibs/basf/wcm/components/static/logo/clientlib/resources/logo.v1.svg); background-repeat: no-repeat; background-position-x: center; background-position-y: center; background-size: 70%;\">\n",
        "    </div>\n",
        "  </div>\n",
        "  \"\"\"\n",
        "\n",
        "  # Função do stramlit que faz o display da webpage\n",
        "  st.markdown(html_temp, unsafe_allow_html = True) \n",
        "    \n",
        "  # As linhas abaixo criam as caixas na qual o usuário vai entrar com dados da pessoa que quer o empréstimo para fazer a Predição\n",
        "  col1, col2 = st.columns(2)\n",
        "  with col1:\n",
        "    nome = st.text_input('Nome')\n",
        "\n",
        "  with col2:\n",
        "    sobrenome = st.text_input('Sobrenome')\n",
        "\n",
        "  col3, col4 = st.columns(2)\n",
        "  with col3:\n",
        "    email = st.text_input('Email')\n",
        "\n",
        "  with col4:\n",
        "    telefone = st.text_input('Telefone')\n",
        "\n",
        "  col5, col6 = st.columns(2)\n",
        "  with col5:\n",
        "    estado = st.selectbox('Estado', ('Selecione', 'Acre','Alagoas','Amapá','Amazonas','Bahia','Ceara','Distrito Federal','Espírito Santo','Goiás','Maranhão','Mato Grosso','Mato Grosso do Sul','Minas Gerais','Pará','Paraíba','Paraná','Pernambuco','Piauí','Rio de Janeiro','Rio Grande do Norte','Rio Grande do Sul','Rondônia','Roraima','Santa Catarina','São Paulo','Sergipe','Tocantins'))\n",
        "\n",
        "  with col6:\n",
        "    cidade = st.text_input('Cidade')\n",
        "\n",
        "  cpf_cnpj = st.text_input('CPF/CNPJ*')\n",
        "\n",
        "  ramo = st.selectbox('Ramo do produto*', ('Selecione', 'Agricultura', 'Automotivo e transporte', 'Bens de consumo', 'Construção', 'Eletronicos', 'Industria', 'Químicos e plastico', 'Recursos de energia', 'Saúde e nutrição'))\n",
        "\n",
        "  checkbox = st.checkbox('Eu aceito os termos da Política de Privacidade')\n",
        "    \n",
        "  def validation(nome, sobrenome, email, telefone, estado, cidade, cpf_cnpj, ramo, checkbox):\n",
        "    flg_cpf_cnpj_recusado = False\n",
        "\n",
        "    if st.button(\"Consultar\"): \n",
        "      if(cpf_cnpj and ramo):\n",
        "        res = requests.get(apiBlacklist)\n",
        "        dict_col = res.json()[ramo]\n",
        "        for item in dict_col:\n",
        "          if int(item['cpf_cnpj']) == int(cpf_cnpj):\n",
        "            flg_cpf_cnpj_recusado = True\n",
        "            break\n",
        "\n",
        "        if flg_cpf_cnpj_recusado:\n",
        "          st.error('Contratante inválido')\n",
        "        else:\n",
        "          st.success('Contratante válido')\n",
        "\n",
        "      else:\n",
        "        st.warning('Digite os campos corretamente')\n",
        "        return\n",
        "\n",
        "  validation(nome, sobrenome, email, telefone, estado, cidade, cpf_cnpj, ramo, checkbox)\n",
        "\n",
        "if __name__=='__main__': \n",
        "  main()"
      ]
    },
    {
      "cell_type": "code",
      "execution_count": null,
      "metadata": {
        "colab": {
          "base_uri": "https://localhost:8080/"
        },
        "id": "SnvKDMyCMEAJ",
        "outputId": "14d84b93-9e51-4ea4-f9ed-d1c89544a553"
      },
      "outputs": [
        {
          "output_type": "stream",
          "name": "stdout",
          "text": [
            "2022-05-13 06:18:19.147 INFO    numexpr.utils: NumExpr defaulting to 2 threads.\n",
            "\u001b[K\u001b[?25hnpx: installed 22 in 3.098s\n",
            "\u001b[0m\n",
            "\u001b[34m\u001b[1m  You can now view your Streamlit app in your browser.\u001b[0m\n",
            "\u001b[0m\n",
            "\u001b[34m  Network URL: \u001b[0m\u001b[1mhttp://172.28.0.2:8501\u001b[0m\n",
            "\u001b[34m  External URL: \u001b[0m\u001b[1mhttp://104.199.123.0:8501\u001b[0m\n",
            "\u001b[0m\n",
            "your url is: https://short-icons-wave-104-199-123-0.loca.lt\n"
          ]
        }
      ],
      "source": [
        "!streamlit run app.py & npx localtunnel --port 8501"
      ]
    }
  ],
  "metadata": {
    "colab": {
      "collapsed_sections": [],
      "name": "Challenge Sprint - CyberSecurity.ipynb",
      "provenance": [],
      "authorship_tag": "ABX9TyPI1TdzUnYERKhhi0JMji8s",
      "include_colab_link": true
    },
    "kernelspec": {
      "display_name": "Python 3",
      "name": "python3"
    },
    "language_info": {
      "name": "python"
    }
  },
  "nbformat": 4,
  "nbformat_minor": 0
}