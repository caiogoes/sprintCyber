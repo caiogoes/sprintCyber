{
  "cells": [
    {
      "cell_type": "markdown",
      "metadata": {
        "id": "view-in-github",
        "colab_type": "text"
      },
      "source": [
        "<a href=\"https://colab.research.google.com/github/caiogoes/sprintCyber/blob/main/Challenge_Sprint_CyberSecurity.ipynb\" target=\"_parent\"><img src=\"https://colab.research.google.com/assets/colab-badge.svg\" alt=\"Open In Colab\"/></a>"
      ]
    },
    {
      "cell_type": "code",
      "execution_count": 26,
      "metadata": {
        "id": "IrGWaByQLn1k"
      },
      "outputs": [],
      "source": [
        "!pip install -q pyngrok\n",
        "!pip install -q streamlit\n",
        "!pip install -q streamlit_ace"
      ]
    },
    {
      "cell_type": "code",
      "execution_count": 23,
      "metadata": {
        "id": "JBGTxesld1d1"
      },
      "outputs": [],
      "source": [
        "!streamlit run app.py &>/dev/null&"
      ]
    },
    {
      "cell_type": "code",
      "execution_count": 24,
      "metadata": {
        "colab": {
          "base_uri": "https://localhost:8080/"
        },
        "id": "b8E65fDmMB1I",
        "outputId": "d3bd09ed-a441-4f48-fa0c-e8eb58ce10b4"
      },
      "outputs": [
        {
          "output_type": "stream",
          "name": "stdout",
          "text": [
            "Overwriting app.py\n"
          ]
        }
      ],
      "source": [
        "%%writefile app.py\n",
        "\n",
        "import re\n",
        "import json\n",
        "import requests\n",
        "import streamlit as st\n",
        "from pyngrok import ngrok\n",
        "\n",
        "apiBlacklist = 'https://caiogoes.github.io/basfBlacklist.json'\n",
        "\n",
        "#Essa função é para criação da webpage\n",
        "def main():\n",
        "  #Elementos da webpage\n",
        "  html_temp = \"\"\"\n",
        "  <div>\n",
        "    <div style =\"background: rgba(0, 0, 0, 0.2); width: 70%; height: 100px; display: inline-block; padding: 20px;\">\n",
        "      <h3 style =\"color: white; text-align: center;\">Consultar liberação produto<h3>\n",
        "    </div>\n",
        "    <div style =\"background: #65ac1e; width: 25%; height: 100px; display: inline-block; float: right; background-image: url(https://agriculture.basf.com/etc.clientlibs/basf/wcm/components/static/logo/clientlib/resources/logo.v1.svg); background-repeat: no-repeat; background-position-x: center; background-position-y: center; background-size: 70%;\">\n",
        "    </div>\n",
        "  </div>\n",
        "  \"\"\"\n",
        "\n",
        "  # Função do stramlit que faz o display da webpage\n",
        "  st.markdown(html_temp, unsafe_allow_html = True) \n",
        "    \n",
        "  # As linhas abaixo criam as caixas na qual o usuário vai entrar com dados da pessoa que quer o empréstimo para fazer a Predição\n",
        "  col1, col2 = st.columns(2)\n",
        "  with col1:\n",
        "    nome = st.text_input('Nome*')\n",
        "\n",
        "  with col2:\n",
        "    sobrenome = st.text_input('Sobrenome*')\n",
        "\n",
        "  col3, col4 = st.columns(2)\n",
        "  with col3:\n",
        "    email = st.text_input('Email*')\n",
        "\n",
        "  with col4:\n",
        "    telefone = st.text_input('Telefone*')\n",
        "\n",
        "  col5, col6 = st.columns(2)\n",
        "  with col5:\n",
        "    estado = st.selectbox('Estado*', ('Selecione', 'Acre','Alagoas','Amapá','Amazonas','Bahia','Ceara','Distrito Federal','Espírito Santo','Goiás','Maranhão','Mato Grosso','Mato Grosso do Sul','Minas Gerais','Pará','Paraíba','Paraná','Pernambuco','Piauí','Rio de Janeiro','Rio Grande do Norte','Rio Grande do Sul','Rondônia','Roraima','Santa Catarina','São Paulo','Sergipe','Tocantins'))\n",
        "\n",
        "  with col6:\n",
        "    cidade = st.text_input('Cidade*')\n",
        "\n",
        "  cpf_cnpj = st.text_input('CPF/CNPJ*')\n",
        "\n",
        "  ramo = st.selectbox('Ramo do produto*', ('Selecione', 'Agricultura', 'Automotivo e transporte', 'Bens de consumo', 'Construção', 'Eletronicos', 'Industria', 'Químicos e plastico', 'Recursos de energia', 'Saúde e nutrição'))\n",
        "\n",
        "  checkbox = st.checkbox('Eu aceito os termos da Política de Privacidade')\n",
        "\n",
        "  # Valida email\n",
        "  def isEmailValid(email):\n",
        "    regex = re.compile(r'([A-Za-z0-9]+[.-_])*[A-Za-z0-9]+@[A-Za-z0-9-]+(\\.[A-Z|a-z]{2,})+')\n",
        "    if re.fullmatch(regex, email):\n",
        "      return True\n",
        "    else:\n",
        "      return False\n",
        "\n",
        "  def validation(nome, sobrenome, email, telefone, estado, cidade, cpf_cnpj, ramo, checkbox):\n",
        "    flg_cpf_cnpj_recusado = False\n",
        "\n",
        "    if st.button(\"Consultar\"): \n",
        "      if nome and sobrenome and isEmailValid(email) and telefone.isnumeric() and estado and cidade and cpf_cnpj.isnumeric() and ramo and checkbox:\n",
        "        res = requests.get(apiBlacklist)\n",
        "        dict_col = res.json()[ramo]\n",
        "        for item in dict_col:\n",
        "          if int(item['cpf_cnpj']) == int(cpf_cnpj):\n",
        "            flg_cpf_cnpj_recusado = True\n",
        "            break\n",
        "\n",
        "        if flg_cpf_cnpj_recusado:\n",
        "          st.error('Comprador inválido')\n",
        "        else:\n",
        "          st.success('Comprador válido')\n",
        "\n",
        "      else:\n",
        "        st.warning('Digite os campos corretamente')\n",
        "        return\n",
        "\n",
        "  validation(nome, sobrenome, email, telefone, estado, cidade, cpf_cnpj, ramo, checkbox)\n",
        "\n",
        "if __name__=='__main__': \n",
        "  main()"
      ]
    },
    {
      "cell_type": "code",
      "execution_count": null,
      "metadata": {
        "colab": {
          "base_uri": "https://localhost:8080/"
        },
        "id": "SnvKDMyCMEAJ",
        "outputId": "b94a3370-4ef6-413e-d4c2-c491594dfae9"
      },
      "outputs": [
        {
          "output_type": "stream",
          "name": "stdout",
          "text": [
            "2022-05-13 21:45:20.110 INFO    numexpr.utils: NumExpr defaulting to 2 threads.\n",
            "\u001b[0m\n",
            "\u001b[34m\u001b[1m  You can now view your Streamlit app in your browser.\u001b[0m\n",
            "\u001b[0m\n",
            "\u001b[34m  Network URL: \u001b[0m\u001b[1mhttp://172.28.0.2:8501\u001b[0m\n",
            "\u001b[34m  External URL: \u001b[0m\u001b[1mhttp://34.86.83.218:8501\u001b[0m\n",
            "\u001b[0m\n",
            "\u001b[K\u001b[?25hnpx: installed 22 in 2.749s\n",
            "your url is: https://short-trams-raise-34-86-83-218.loca.lt\n"
          ]
        }
      ],
      "source": [
        "!streamlit run app.py & npx localtunnel --port 8501"
      ]
    }
  ],
  "metadata": {
    "colab": {
      "collapsed_sections": [],
      "name": "Challenge Sprint - CyberSecurity.ipynb",
      "provenance": [],
      "authorship_tag": "ABX9TyOKGZU7YSOxDA+PNU/JH3he",
      "include_colab_link": true
    },
    "kernelspec": {
      "display_name": "Python 3",
      "name": "python3"
    },
    "language_info": {
      "name": "python"
    }
  },
  "nbformat": 4,
  "nbformat_minor": 0
}